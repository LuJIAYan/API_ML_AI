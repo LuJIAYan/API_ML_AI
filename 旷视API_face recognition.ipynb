{
 "cells": [
  {
   "cell_type": "markdown",
   "metadata": {},
   "source": [
    "# 导入函数"
   ]
  },
  {
   "cell_type": "code",
   "execution_count": 2,
   "metadata": {},
   "outputs": [
    {
     "name": "stdout",
     "output_type": "stream",
     "text": [
      "{'faces': [{'face_token': '0dc97f4d268ff0b1ad3ccbe5ca4c7d77', 'face_rectangle': {'height': 167, 'left': 310, 'width': 167, 'top': 227}}, {'face_token': '1c3efe63a2571da063907a549224b8b0', 'face_rectangle': {'height': 157, 'left': 644, 'width': 157, 'top': 263}}, {'face_token': 'cb3b665cc83f9243ed3467e5784952a9', 'face_rectangle': {'height': 157, 'left': 1152, 'width': 157, 'top': 363}}, {'face_token': '14203c10ed7e426cb97be5c4622e8827', 'face_rectangle': {'height': 141, 'left': 888, 'width': 141, 'top': 340}}], 'time_used': 510, 'request_id': '1546866599,24d28e26-10bd-45ff-8a52-47d0859a5783', 'image_id': '0tgoIsP8A0bk0IEoRjuiNA=='}\n"
     ]
    }
   ],
   "source": [
    "import requests\n",
    " \n",
    "key =\"不能告诉你\"\n",
    "secret =\"你猜猜看\"\n",
    " \n",
    "filepath1 =\"biyezhao.jpg\"\n",
    "\n",
    " \n",
    "def detect_face(filepath):#传入图片文件\n",
    "    http_url =\"https://api-cn.faceplusplus.com/facepp/v3/detect\"\n",
    "    files = {\"image_file\": open(filepath, \"rb\")}\n",
    "    data = {\"api_key\":key, \"api_secret\": secret}\n",
    "    response = requests.post(http_url, data=data, files=files)\n",
    "    req_dict = response.json()\n",
    "    print(req_dict)\n",
    "    return req_dict\n",
    " \n",
    " \n",
    "if __name__ == \"__main__\":\n",
    "    detect_face(filepath1)"
   ]
  },
  {
   "cell_type": "markdown",
   "metadata": {},
   "source": [
    "传入的毕业照如图：\n",
    "![images](http://s4.sinaimg.cn/orignal/492dc5e9bdaf7ac9bab73)"
   ]
  },
  {
   "cell_type": "markdown",
   "metadata": {},
   "source": [
    "# 创建人脸库"
   ]
  },
  {
   "cell_type": "code",
   "execution_count": 3,
   "metadata": {},
   "outputs": [
    {
     "name": "stdout",
     "output_type": "stream",
     "text": [
      "{'faceset_token': '661d75ce0be1eb94d97af25c1510079e', 'face_count': 0, 'failure_detail': [], 'time_used': 181, 'request_id': '1546842532,55789774-fa25-4593-9eab-08242043449a', 'outer_id': '', 'face_added': 0}\n"
     ]
    }
   ],
   "source": [
    "def set_face():#创建face_set\n",
    "    url = 'https://api-cn.faceplusplus.com/facepp/v3/faceset/create'\n",
    "    params = {\n",
    "            'api_key':key,\n",
    "            'api_secret':secret,\n",
    "            \n",
    "            }\n",
    "    response = requests.post(url,data = params)\n",
    "    req_dict = response.json()\n",
    "    print(req_dict)\n",
    "    return req_dict\n",
    "\n",
    "if __name__ == \"__main__\":\n",
    "    set_face()"
   ]
  },
  {
   "cell_type": "markdown",
   "metadata": {},
   "source": [
    "# 添加人脸"
   ]
  },
  {
   "cell_type": "code",
   "execution_count": 4,
   "metadata": {},
   "outputs": [
    {
     "name": "stdout",
     "output_type": "stream",
     "text": [
      "{'request_id': '1546842532,2a00a586-defd-4987-8030-26fa34bca1e6', 'faces': [{'face_token': 'bd1f212e713f90d65a1d6662208a2f2b', 'face_rectangle': {'width': 167, 'left': 310, 'top': 227, 'height': 167}}, {'face_token': '474af09550725e8b6f0cd9567cfa9d1f', 'face_rectangle': {'width': 157, 'left': 644, 'top': 263, 'height': 157}}, {'face_token': 'f4841bd95ea7b8f58209b6ff5c235e76', 'face_rectangle': {'width': 157, 'left': 1152, 'top': 363, 'height': 157}}, {'face_token': '28ffcb0676622977c054167dd1e8c410', 'face_rectangle': {'width': 141, 'left': 888, 'top': 340, 'height': 141}}], 'image_id': '0tgoIsP8A0bk0IEoRjuiNA==', 'time_used': 397}\n",
      "{'faceset_token': 'c46d952cd45b6946a485b128c7d84832', 'face_count': 4, 'failure_detail': [], 'time_used': 761, 'request_id': '1546842533,2152e483-3e4e-449b-a3f7-9bf48a6138ff', 'outer_id': '', 'face_added': 1}\n"
     ]
    }
   ],
   "source": [
    "\n",
    "def addface(faceset,facetokens):#将face加入到faceset\n",
    "    url = 'https://api-cn.faceplusplus.com/facepp/v3/faceset/addface'\n",
    "    params = {\n",
    "            'api_key':key,\n",
    "            'api_secret':secret,\n",
    "            'faceset_token':faceset,\n",
    "            'face_tokens':facetokens\n",
    "            }\n",
    "    r = requests.post(url,data = params)\n",
    "    req_dict = r.json()\n",
    "    print(req_dict)\n",
    "    return req_dict\n",
    "\n",
    "if __name__ == \"__main__\":\n",
    "    image1 = detect_face(filepath1)\n",
    "    faceId1 = image1['faces'][0]['face_token']\n",
    "    addface('c46d952cd45b6946a485b128c7d84832',faceId1)"
   ]
  },
  {
   "cell_type": "markdown",
   "metadata": {},
   "source": [
    "# 自定义人脸信息"
   ]
  },
  {
   "cell_type": "code",
   "execution_count": 5,
   "metadata": {},
   "outputs": [
    {
     "name": "stdout",
     "output_type": "stream",
     "text": [
      "{'user_id': '张三_网新1班', 'request_id': '1546842534,04190175-1054-4689-8c25-f47663a38413', 'face_token': '728692b2413f4a80565ecdec8c493dd2', 'time_used': 60}\n"
     ]
    },
    {
     "data": {
      "text/plain": [
       "{'face_token': '728692b2413f4a80565ecdec8c493dd2',\n",
       " 'request_id': '1546842534,04190175-1054-4689-8c25-f47663a38413',\n",
       " 'time_used': 60,\n",
       " 'user_id': '张三_网新1班'}"
      ]
     },
     "execution_count": 5,
     "metadata": {},
     "output_type": "execute_result"
    }
   ],
   "source": [
    "\n",
    "def face_SetUserID(face_token,user_id):#为检测出的某一个人脸添加标识信息，该信息会在Search接口结果中返回，用来确定用户身份。\n",
    "    url = 'https://api-cn.faceplusplus.com/facepp/v3/face/setuserid'\n",
    "    params = {\n",
    "            'api_key':key,\n",
    "            'api_secret':secret,\n",
    "            'face_token':face_token,\n",
    "            'user_id':user_id\n",
    "            }\n",
    "    r = requests.post(url,data = params)\n",
    "    req_dict = r.json()\n",
    "    print(req_dict)\n",
    "    return req_dict\n",
    "\n",
    "face_SetUserID('728692b2413f4a80565ecdec8c493dd2','张三_网新1班')\n"
   ]
  },
  {
   "cell_type": "markdown",
   "metadata": {},
   "source": [
    "# 人脸搜索"
   ]
  },
  {
   "cell_type": "code",
   "execution_count": 4,
   "metadata": {},
   "outputs": [
    {
     "name": "stdout",
     "output_type": "stream",
     "text": [
      "{'results': [{'face_token': '728692b2413f4a80565ecdec8c493dd2', 'user_id': '张三_网新1班', 'confidence': 97.261}], 'faces': [{'face_token': 'e92c38591622d58ebe07d20f64ecb337', 'face_rectangle': {'height': 167, 'left': 310, 'width': 167, 'top': 227}}, {'face_token': '560690ab313b785bb4912324d220d0dd', 'face_rectangle': {'height': 157, 'left': 644, 'width': 157, 'top': 263}}, {'face_token': '0234c8324b3bacdfcfc452cf21725d8a', 'face_rectangle': {'height': 157, 'left': 1152, 'width': 157, 'top': 363}}, {'face_token': '718d83de0b5b1cac6023ce322add5eb9', 'face_rectangle': {'height': 141, 'left': 888, 'width': 141, 'top': 340}}], 'thresholds': {'1e-4': 69.101, '1e-3': 62.327, '1e-5': 73.975}, 'image_id': '0tgoIsP8A0bk0IEoRjuiNA==', 'request_id': '1546867107,b7f18236-79df-4faa-a20c-a777ea8df539', 'time_used': 1125}\n"
     ]
    }
   ],
   "source": [
    "def face_search(image_file1,faceset_token):\n",
    "    url = 'https://api-cn.faceplusplus.com/facepp/v3/search'\n",
    "    files = {\"image_file\": open(image_file1, \"rb\")}\n",
    "    params = {\n",
    "            'api_key':key,\n",
    "            'api_secret':secret,\n",
    "            'faceset_token':faceset_token\n",
    "            }\n",
    "    r = requests.post(url,files = files,data = params)\n",
    "    req_dict = r.json()\n",
    "    print(req_dict)\n",
    "    return req_dict\n",
    "\n",
    "if __name__ == \"__main__\":\n",
    "    face_search(filepath1,'c46d952cd45b6946a485b128c7d84832')"
   ]
  },
  {
   "cell_type": "markdown",
   "metadata": {},
   "source": [
    "# 加矩形框"
   ]
  },
  {
   "cell_type": "code",
   "execution_count": 5,
   "metadata": {},
   "outputs": [],
   "source": [
    "def face_search(image_file1,faceset_token):\n",
    "    url = 'https://api-cn.faceplusplus.com/facepp/v3/search'\n",
    "    files = {\"image_file\": open(image_file1, \"rb\")}\n",
    "    params = {\n",
    "            'api_key':key,\n",
    "            'api_secret':secret,\n",
    "            'faceset_token':faceset_token\n",
    "            }\n",
    "    r = requests.post(url,files = files,data = params)\n",
    "    req_dict = r.json()\n",
    "    print(req_dict)\n",
    "    return req_dict"
   ]
  },
  {
   "cell_type": "markdown",
   "metadata": {},
   "source": [
    "# 组合函数,检测后,通过OPENCV在图像绘制方块和信息"
   ]
  },
  {
   "cell_type": "code",
   "execution_count": null,
   "metadata": {},
   "outputs": [],
   "source": [
    "if __name__ == \"__main__\":\n",
    "    img = cv2.imread(filepath1)\n",
    "    face_information = face_search(filepath9,'1f0b5aed6fdb72391028e2804cdd68bb')#该帧与faceset中人脸进行匹配\n",
    "    if face_information['faces'] :#[faces]数组不能为空，能在图像中找到脸\n",
    "        confidence = face_information['results'][0]['confidence']\n",
    "        thresholds = face_information['thresholds']['1e-5']\n",
    "        if confidence > 75 and thresholds < confidence:  #置信度阈值判断\n",
    "            user_id = face_information['results'][0]['user_id'] #获得唯一人脸id\n",
    "            w = face_information['faces'][0]['face_rectangle']['width']\n",
    "            h = face_information['faces'][0]['face_rectangle']['top']\n",
    "            x = face_information['faces'][0]['face_rectangle']['left']\n",
    "            y = face_information['faces'][0]['face_rectangle']['height']\n",
    "            cv2.rectangle(img, (x, y), (x + w, y + h), (255, 0, 0), 2)#人脸矩形框\n",
    "            font = cv2.FONT_HERSHEY_SIMPLEX#字体设置\n",
    "            cv2.putText(img, user_id, (x,y-5), font,1, (0,0,255),1)#照片/添加的文字/左上角坐标/字体/字体大小/颜色/字体粗细\n",
    "            cv2.imwrite('D:/biyezhao.jpg',img)\n"
   ]
  },
  {
   "cell_type": "markdown",
   "metadata": {},
   "source": [
    "-预计是出现这种效果，由于OpenCV环境部署没有成功暂时实现不了\n",
    "![人脸框](人脸框.png)"
   ]
  },
  {
   "cell_type": "code",
   "execution_count": null,
   "metadata": {},
   "outputs": [],
   "source": []
  }
 ],
 "metadata": {
  "kernelspec": {
   "display_name": "Python 3",
   "language": "python",
   "name": "python3"
  },
  "language_info": {
   "codemirror_mode": {
    "name": "ipython",
    "version": 3
   },
   "file_extension": ".py",
   "mimetype": "text/x-python",
   "name": "python",
   "nbconvert_exporter": "python",
   "pygments_lexer": "ipython3",
   "version": "3.5.6"
  }
 },
 "nbformat": 4,
 "nbformat_minor": 2
}
