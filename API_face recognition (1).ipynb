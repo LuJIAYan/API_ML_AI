{
 "cells": [
  {
   "cell_type": "code",
   "execution_count": 5,
   "metadata": {},
   "outputs": [
    {
     "data": {
      "text/plain": [
       "{'Content-Type': 'application/json',\n",
       " 'Ocp-Apim-Subscription-Key': 'tbdIripRr96cUlAGKFHtFroB'}"
      ]
     },
     "execution_count": 5,
     "metadata": {},
     "output_type": "execute_result"
    }
   ],
   "source": [
    "KEY = 'tbdIripRr96cUlAGKFHtFroB'  # Replace with a valid Subscription Key here.\n",
    "\n",
    "# 沿用API的示范代码，{subscription key}用KEY代入\n",
    "headers = {\n",
    "    # Request headers\n",
    "    'Content-Type': 'application/json',\n",
    "    'Ocp-Apim-Subscription-Key': 'tbdIripRr96cUlAGKFHtFroB'.format(subscription_key = KEY),\n",
    "}\n",
    "headers\n"
   ]
  },
  {
   "cell_type": "code",
   "execution_count": 1,
   "metadata": {},
   "outputs": [],
   "source": [
    "from aip import AipFace\n",
    "\n",
    "\"\"\" 你的 APPID AK SK \"\"\"\n",
    "APP_ID = '14131125'\n",
    "API_KEY = 'tbdIripRr96cUlAGKFHtFroB'\n",
    "SECRET_KEY = 'Znc0y2Yh4SpMXuBL7I5AdTzuiXcWcdNh'\n",
    "\n",
    "client = AipFace(APP_ID, API_KEY, SECRET_KEY)\n"
   ]
  },
  {
   "cell_type": "code",
   "execution_count": 2,
   "metadata": {},
   "outputs": [],
   "source": [
    "#from 模块名 import 函数名\n",
    "from aip import AipFace"
   ]
  },
  {
   "cell_type": "code",
   "execution_count": 5,
   "metadata": {},
   "outputs": [
    {
     "data": {
      "text/plain": [
       "{'error_code': 0,\n",
       " 'error_msg': 'SUCCESS',\n",
       " 'log_id': 747956941998763141,\n",
       " 'timestamp': 1544199876,\n",
       " 'cached': 0,\n",
       " 'result': {'face_num': 4,\n",
       "  'face_list': [{'face_token': '99780525abfaddc5a333e7d86f010611',\n",
       "    'location': {'left': 320.42,\n",
       "     'top': 223.25,\n",
       "     'width': 167,\n",
       "     'height': 154,\n",
       "     'rotation': 6},\n",
       "    'face_probability': 1,\n",
       "    'angle': {'yaw': 1.31, 'pitch': 1.94, 'roll': 5.34},\n",
       "    'race': {'type': 'yellow', 'probability': 1},\n",
       "    'age': 25,\n",
       "    'gender': {'type': 'female', 'probability': 1}},\n",
       "   {'face_token': '0b8cb88c0982fd9433577c90e42dfdfd',\n",
       "    'location': {'left': 659.22,\n",
       "     'top': 247.35,\n",
       "     'width': 158,\n",
       "     'height': 154,\n",
       "     'rotation': 12},\n",
       "    'face_probability': 1,\n",
       "    'angle': {'yaw': -4.29, 'pitch': 3, 'roll': 9.99},\n",
       "    'race': {'type': 'yellow', 'probability': 1},\n",
       "    'age': 24,\n",
       "    'gender': {'type': 'female', 'probability': 1}},\n",
       "   {'face_token': '4d6f5d59673c823e74fad37573be604f',\n",
       "    'location': {'left': 1148.6,\n",
       "     'top': 373.57,\n",
       "     'width': 160,\n",
       "     'height': 141,\n",
       "     'rotation': -2},\n",
       "    'face_probability': 1,\n",
       "    'angle': {'yaw': 3.84, 'pitch': 5.95, 'roll': -5.74},\n",
       "    'race': {'type': 'yellow', 'probability': 1},\n",
       "    'age': 19,\n",
       "    'gender': {'type': 'female', 'probability': 1}},\n",
       "   {'face_token': '76aaa36e41ec02ae174ef420a9a7d453',\n",
       "    'location': {'left': 882.33,\n",
       "     'top': 344.39,\n",
       "     'width': 149,\n",
       "     'height': 138,\n",
       "     'rotation': -1},\n",
       "    'face_probability': 1,\n",
       "    'angle': {'yaw': 8.49, 'pitch': 16.59, 'roll': -7.46},\n",
       "    'race': {'type': 'yellow', 'probability': 1},\n",
       "    'age': 26,\n",
       "    'gender': {'type': 'female', 'probability': 1}}]}}"
      ]
     },
     "execution_count": 5,
     "metadata": {},
     "output_type": "execute_result"
    }
   ],
   "source": [
    "#选择了URL类型，base64看不懂。暂时用一张图片链接测试（图片的base64编码指将一副图片数据编码成一串字符串，使用该字符串代替图像地址。）\n",
    "image = \"https://timgsa.baidu.com/timg?image&quality=80&size=b9999_10000&sec=1544208974338&di=2e86f9cd0e74b20e7a018d50e69d509f&imgtype=0&src=http%3A%2F%2Fs4.sinaimg.cn%2Forignal%2F492dc5e9bdaf7ac9bab73\"\n",
    "imageType = \"URL\"\n",
    "\n",
    "#client.detect()这个函数即为面部检测函数，内部可填入三个参数，image,imageType,options。\n",
    "\"\"\" 调用人脸检测 \"\"\"\n",
    "client.detect(image, imageType);\n",
    "\n",
    "\n",
    "\"\"\" 如果有可选参数 \"\"\"\n",
    "options = {}\n",
    "options[\"face_field\"] = \"race,age,gender\"\n",
    "options[\"max_face_num\"] = 4\n",
    "options[\"face_type\"] = \"LIVE\"\n",
    "\n",
    "\"\"\" 带参数调用人脸检测 \"\"\"\n",
    "client.detect(image, imageType, options)\n"
   ]
  },
  {
   "cell_type": "code",
   "execution_count": 6,
   "metadata": {},
   "outputs": [
    {
     "name": "stdout",
     "output_type": "stream",
     "text": [
      "{'error_code': 0, 'error_msg': 'SUCCESS', 'log_id': 747956942000482491, 'timestamp': 1544200048, 'cached': 0, 'result': {'face_num': 4, 'face_list': [{'face_token': '99780525abfaddc5a333e7d86f010611', 'location': {'left': 320.42, 'top': 223.25, 'width': 167, 'height': 154, 'rotation': 6}, 'face_probability': 1, 'angle': {'yaw': 1.31, 'pitch': 1.94, 'roll': 5.34}, 'race': {'type': 'yellow', 'probability': 1}, 'age': 25, 'gender': {'type': 'female', 'probability': 1}}, {'face_token': '0b8cb88c0982fd9433577c90e42dfdfd', 'location': {'left': 659.22, 'top': 247.35, 'width': 158, 'height': 154, 'rotation': 12}, 'face_probability': 1, 'angle': {'yaw': -4.29, 'pitch': 3, 'roll': 9.99}, 'race': {'type': 'yellow', 'probability': 1}, 'age': 24, 'gender': {'type': 'female', 'probability': 1}}, {'face_token': '4d6f5d59673c823e74fad37573be604f', 'location': {'left': 1148.6, 'top': 373.57, 'width': 160, 'height': 141, 'rotation': -2}, 'face_probability': 1, 'angle': {'yaw': 3.84, 'pitch': 5.95, 'roll': -5.74}, 'race': {'type': 'yellow', 'probability': 1}, 'age': 19, 'gender': {'type': 'female', 'probability': 1}}, {'face_token': '76aaa36e41ec02ae174ef420a9a7d453', 'location': {'left': 882.33, 'top': 344.39, 'width': 149, 'height': 138, 'rotation': -1}, 'face_probability': 1, 'angle': {'yaw': 8.49, 'pitch': 16.59, 'roll': -7.46}, 'race': {'type': 'yellow', 'probability': 1}, 'age': 26, 'gender': {'type': 'female', 'probability': 1}}]}}\n"
     ]
    }
   ],
   "source": [
    "result = client.detect(image, imageType, options)\n",
    "print(result)"
   ]
  },
  {
   "cell_type": "code",
   "execution_count": 15,
   "metadata": {},
   "outputs": [],
   "source": [
    "#然后测试base64类型的人脸检测\n",
    "import base64\n",
    "filePath =\"biyezhao.jpg\"\n",
    "with open(filePath,\"rb\") as f:  \n",
    "# b64encode是编码，这里改了一下将二进制格式转化为BASE64格式 要注意不然要报错（_io.BufferedReader object错误）的 ；还有记得把照片和py档放一起\n",
    "    base64_data = base64.b64encode(f.read())\n",
    "image = str(base64_data,'utf-8')"
   ]
  },
  {
   "cell_type": "code",
   "execution_count": 17,
   "metadata": {
    "scrolled": true
   },
   "outputs": [
    {
     "name": "stdout",
     "output_type": "stream",
     "text": [
      "{'error_code': 0, 'error_msg': 'SUCCESS', 'log_id': 744193242024321781, 'timestamp': 1544202432, 'cached': 0, 'result': {'face_num': 4, 'face_list': [{'face_token': '99780525abfaddc5a333e7d86f010611', 'location': {'left': 320.42, 'top': 223.25, 'width': 167, 'height': 154, 'rotation': 6}, 'face_probability': 1, 'angle': {'yaw': 1.31, 'pitch': 1.94, 'roll': 5.34}, 'age': 25, 'beauty': 25.15}, {'face_token': '0b8cb88c0982fd9433577c90e42dfdfd', 'location': {'left': 659.22, 'top': 247.35, 'width': 158, 'height': 154, 'rotation': 12}, 'face_probability': 1, 'angle': {'yaw': -4.29, 'pitch': 3, 'roll': 9.99}, 'age': 24, 'beauty': 36.7}, {'face_token': '4d6f5d59673c823e74fad37573be604f', 'location': {'left': 1148.6, 'top': 373.57, 'width': 160, 'height': 141, 'rotation': -2}, 'face_probability': 1, 'angle': {'yaw': 3.84, 'pitch': 5.95, 'roll': -5.74}, 'age': 19, 'beauty': 32.66}, {'face_token': '76aaa36e41ec02ae174ef420a9a7d453', 'location': {'left': 882.33, 'top': 344.39, 'width': 149, 'height': 138, 'rotation': -1}, 'face_probability': 1, 'angle': {'yaw': 8.49, 'pitch': 16.59, 'roll': -7.46}, 'age': 26, 'beauty': 37.84}]}}\n"
     ]
    }
   ],
   "source": [
    "#参考https://blog.csdn.net/qq_40821981/article/details/81665322\n",
    "from aip import AipFace\n",
    "import base64\n",
    "\"\"\" 你的 APPID AK SK \"\"\"\n",
    "from aip import AipFace\n",
    "\n",
    "\"\"\" 你的 APPID AK SK \"\"\"\n",
    "APP_ID = '14131125'\n",
    "API_KEY = 'tbdIripRr96cUlAGKFHtFroB'\n",
    "SECRET_KEY = 'Znc0y2Yh4SpMXuBL7I5AdTzuiXcWcdNh'\n",
    "\n",
    "client = AipFace(APP_ID, API_KEY, SECRET_KEY)\n",
    "\n",
    "\n",
    "client = AipFace(APP_ID, API_KEY, SECRET_KEY)\n",
    "\n",
    "filePath =\"biyezhao.jpg\"\n",
    "with open(filePath,\"rb\") as f:  \n",
    "# b64encode是编码\n",
    "    base64_data = base64.b64encode(f.read())\n",
    "image = str(base64_data,'utf-8')\n",
    "imageType = \"BASE64\"\n",
    "\n",
    "#参数设置\n",
    "options = {}\n",
    "options[\"face_field\"] = \"age,beauty\"\n",
    "options[\"max_face_num\"] = 4\n",
    "options[\"face_type\"] = \"LIVE\"\n",
    "\n",
    "\"\"\" 调用人脸检测 \"\"\"\n",
    "result = client.detect(image, imageType,options);\n",
    "print(result)"
   ]
  },
  {
   "cell_type": "code",
   "execution_count": 29,
   "metadata": {},
   "outputs": [
    {
     "ename": "PermissionError",
     "evalue": "[Errno 13] Permission denied: 'D:\\\\API_qimo\\\\图像识别'",
     "output_type": "error",
     "traceback": [
      "\u001b[1;31m---------------------------------------------------------------------------\u001b[0m",
      "\u001b[1;31mPermissionError\u001b[0m                           Traceback (most recent call last)",
      "\u001b[1;32m<ipython-input-29-968aa0416215>\u001b[0m in \u001b[0;36m<module>\u001b[1;34m()\u001b[0m\n\u001b[0;32m     12\u001b[0m \u001b[0mfilePath\u001b[0m \u001b[1;33m=\u001b[0m \u001b[1;34mr\"D:\\API_qimo\\图像识别\"\u001b[0m\u001b[1;33m\u001b[0m\u001b[0m\n\u001b[0;32m     13\u001b[0m \u001b[1;33m\u001b[0m\u001b[0m\n\u001b[1;32m---> 14\u001b[1;33m \u001b[1;32mwith\u001b[0m \u001b[0mopen\u001b[0m\u001b[1;33m(\u001b[0m\u001b[0mfilePath\u001b[0m\u001b[1;33m,\u001b[0m\u001b[1;34m\"rb\"\u001b[0m\u001b[1;33m)\u001b[0m \u001b[1;32mas\u001b[0m \u001b[0mf\u001b[0m\u001b[1;33m:\u001b[0m\u001b[1;33m\u001b[0m\u001b[0m\n\u001b[0m\u001b[0;32m     15\u001b[0m \u001b[1;31m# b64encode是编码\u001b[0m\u001b[1;33m\u001b[0m\u001b[1;33m\u001b[0m\u001b[0m\n\u001b[0;32m     16\u001b[0m         \u001b[0mbase64_data\u001b[0m \u001b[1;33m=\u001b[0m \u001b[0mbase64\u001b[0m\u001b[1;33m.\u001b[0m\u001b[0mb64encode\u001b[0m\u001b[1;33m(\u001b[0m\u001b[0mf\u001b[0m\u001b[1;33m.\u001b[0m\u001b[0mread\u001b[0m\u001b[1;33m(\u001b[0m\u001b[1;33m)\u001b[0m\u001b[1;33m)\u001b[0m\u001b[1;33m\u001b[0m\u001b[0m\n",
      "\u001b[1;31mPermissionError\u001b[0m: [Errno 13] Permission denied: 'D:\\\\API_qimo\\\\图像识别'"
     ]
    }
   ],
   "source": [
    "#测试建一个人脸库 有点复杂 摸索中..\n",
    "from aip import AipFace\n",
    "import base64\n",
    "\"\"\" 你的 APPID AK SK \"\"\"\n",
    "APP_ID = '14131125'\n",
    "API_KEY = 'tbdIripRr96cUlAGKFHtFroB'\n",
    "SECRET_KEY = 'Znc0y2Yh4SpMXuBL7I5AdTzuiXcWcdNh'\n",
    "\n",
    "client = AipFace(APP_ID, API_KEY, SECRET_KEY)\n",
    "\n",
    "#W文件路径记得反斜杠\n",
    "filePath = r\"D:\\API_qimo\\图像识别\"\n",
    "\n",
    "with open(filePath,\"rb\") as f:  \n",
    "# b64encode是编码\n",
    "\tbase64_data = base64.b64encode(f.read())\n",
    "image = str(base64_data,'utf-8')\n",
    "imageType = \"BASE64\"\n",
    "\n",
    "groupIdList = \"test\"\n",
    "\n",
    "\"\"\" 调用人脸搜索 \"\"\"\n",
    "a = client.search(image, imageType, groupIdList);\n",
    "\n",
    "print(a)\n"
   ]
  },
  {
   "cell_type": "code",
   "execution_count": null,
   "metadata": {},
   "outputs": [],
   "source": []
  }
 ],
 "metadata": {
  "kernelspec": {
   "display_name": "Python 3",
   "language": "python",
   "name": "python3"
  },
  "language_info": {
   "codemirror_mode": {
    "name": "ipython",
    "version": 3
   },
   "file_extension": ".py",
   "mimetype": "text/x-python",
   "name": "python",
   "nbconvert_exporter": "python",
   "pygments_lexer": "ipython3",
   "version": "3.7.0"
  }
 },
 "nbformat": 4,
 "nbformat_minor": 2
}
